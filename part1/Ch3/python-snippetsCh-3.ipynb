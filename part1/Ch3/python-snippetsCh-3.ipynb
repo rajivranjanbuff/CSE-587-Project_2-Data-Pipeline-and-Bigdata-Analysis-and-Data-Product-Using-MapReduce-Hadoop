{
 "cells": [
  {
   "cell_type": "code",
   "execution_count": 1,
   "metadata": {},
   "outputs": [
    {
     "name": "stdout",
     "output_type": "stream",
     "text": [
      "Susan now lives in Washington\n",
      "   and makes $105000.0\n",
      "Ellen now lives in Texas\n",
      "   and makes $78750.0\n"
     ]
    }
   ],
   "source": [
    "SALARY_RAISE_FACTOR = 0.05\n",
    "STATE_CODE_MAP = {'WA': 'Washington', 'TX': 'Texas'}\n",
    "def update_employee_record(rec):\n",
    "    old_sal = rec['salary']\n",
    "    new_sal = old_sal * (1 + SALARY_RAISE_FACTOR)\n",
    "    rec['salary'] = new_sal\n",
    "    state_code = rec['state_code']\n",
    "    rec['state_name'] = STATE_CODE_MAP[state_code]\n",
    "input_data = [\n",
    "    {'employee_name': 'Susan', 'salary': 100000.0,\n",
    "     'state_code': 'WA'},\n",
    "    {'employee_name': 'Ellen', 'salary': 75000.0,\n",
    "     'state_code': 'TX'},\n",
    "]\n",
    "for rec in input_data:\n",
    "    update_employee_record(rec)\n",
    "    name = rec['employee_name']\n",
    "    salary = rec['salary']\n",
    "    state = rec['state_name']\n",
    "    print name + ' now lives in ' + state\n",
    "    print '   and makes $' + str(salary)"
   ]
  },
  {
   "cell_type": "code",
   "execution_count": 3,
   "metadata": {},
   "outputs": [
    {
     "name": "stdout",
     "output_type": "stream",
     "text": [
      "hello\n",
      "hello\n",
      "\n",
      "hello's\n",
      "line 1\n",
      "line 2\n",
      "A\n",
      "AB\n",
      "BC\n",
      "A\n",
      "AB\n",
      "BC\n",
      "BCD\n",
      "ABC\n"
     ]
    }
   ],
   "source": [
    "a_string = \"hello\"\n",
    "same_as_previous = 'hello'\n",
    "an_empty_string = \"\"\n",
    "w_a_single_quote = \"hello's\"\n",
    "multi_line_string = \"\"\"line 1\n",
    "line 2\"\"\"\n",
    "print a_string\n",
    "print same_as_previous\n",
    "print an_empty_string\n",
    "print w_a_single_quote\n",
    "print multi_line_string\n",
    "print \"ABCD\"[0]\n",
    "print \"ABCD\"[0:2]\n",
    "print \"ABCD\"[1:3]\n",
    "print \"ABCD\"[0]\n",
    "print \"ABCD\"[0:2]\n",
    "print \"ABCD\"[1:3]\n",
    "print \"ABCD\"[1:]\n",
    "print \"ABCD\"[:-1]"
   ]
  },
  {
   "cell_type": "code",
   "execution_count": 5,
   "metadata": {},
   "outputs": [
    {
     "name": "stdout",
     "output_type": "stream",
     "text": [
      "625\n"
     ]
    }
   ],
   "source": [
    " def sqr(x):\n",
    "       \"This function just squares its input \"\n",
    "       return x * x\n",
    "\n",
    "print sqr(25)"
   ]
  },
  {
   "cell_type": "code",
   "execution_count": 10,
   "metadata": {},
   "outputs": [
    {
     "name": "stdout",
     "output_type": "stream",
     "text": [
      "a \n",
      "['A ', 5.7, 'B ', [1, 2, 3]]\n",
      "[4, 16, 36, 64]\n"
     ]
    }
   ],
   "source": [
    "my_list = [\"a \", \"b \", \"c \"]\n",
    "print my_list[0] # prints \"a \"\n",
    "my_list[0] = \"A \" # changes that element of the list my_list.append(\"d \") # adds new element to the end\n",
    "# List elements can be ANYTHING\n",
    "mixed_list = [\"A \", 5.7, \"B \", [1,2,3]]\n",
    "print mixed_list\n",
    "original_list = [1,2,3,4,5,6,7,8]\n",
    "squares = [x*x for x in original_list]\n",
    "squares_of_evens = [x*x for x in original_list if x%2==0]\n",
    "print squares_of_evens"
   ]
  },
  {
   "cell_type": "code",
   "execution_count": 12,
   "metadata": {},
   "outputs": [
    {
     "name": "stdout",
     "output_type": "stream",
     "text": [
      "   age    name  age_plus_one  age_times_two  age_squared  over_30\n",
      "0   60     Bob            61            120         3600     True\n",
      "1   25    Alex            26             50          625    False\n",
      "2   33  Janice            34             66         1089     True\n",
      "   age    name  age_plus_one  age_times_two  age_squared  over_30\n",
      "1   25    Alex            26             50          625    False\n",
      "2   33  Janice            34             66         1089     True\n",
      "33.0\n",
      "Index([u'Bob', u'Alex', u'Janice'], dtype='object', name=u'name')\n",
      "60\n"
     ]
    }
   ],
   "source": [
    "import pandas as pd\n",
    "# Making data frame from a dictionary\n",
    "# that maps column names to their values\n",
    "df = pd.DataFrame({\n",
    "\"name\": [\"Bob\", \"Alex\", \"Janice\"],\n",
    "\"age\": [60, 25, 33]\n",
    "})\n",
    "\n",
    "# Making new columns from old ones\n",
    "# is really easy\n",
    "df[\"age_plus_one\"] = df[\"age\"] + 1\n",
    "df[\"age_times_two\"] = 2 * df[\"age\"]\n",
    "df[\"age_squared\"] = df[\"age\"] * df[\"age\"]\n",
    "df[\"over_30\"] = (df[\"age\"] > 30) # this col is bools\n",
    "# The columns have various built-in aggregate functions\n",
    "total_age = df[\"age\"].sum()\n",
    "median_age = df[\"age\"].quantile(0.5)\n",
    "# You can select several rows of the DataFrame\n",
    "# and make a new DataFrame out of them\n",
    "df_below50 = df[df[\"age\"] < 50]\n",
    "# Apply a custom function to a column\n",
    "df[\"age_squared\"] = df[\"age\"].apply(lambda x: x*x)\n",
    "print df\n",
    "print df_below50\n",
    "print median_age\n",
    "\n",
    "# Create a DataFrame containing the same data,\n",
    "# but where name is the index\n",
    "df_w_name_as_ind = df.set_index(\"name\")\n",
    "print df_w_name_as_ind.index # prints their names\n",
    "\n",
    "bobs_row = df_w_name_as_ind.loc[\"Bob\"]\n",
    "print bobs_row[\"age\"] # prints 60"
   ]
  },
  {
   "cell_type": "code",
   "execution_count": 13,
   "metadata": {},
   "outputs": [
    {
     "name": "stdout",
     "output_type": "stream",
     "text": [
      "0    1\n",
      "1    2\n",
      "2    3\n",
      "dtype: int64\n",
      "0    3\n",
      "1    4\n",
      "2    5\n",
      "dtype: int64\n",
      "RangeIndex(start=0, stop=3, step=1)\n",
      "0    5\n",
      "1    6\n",
      "2    8\n",
      "dtype: int64\n",
      "<class 'pandas.core.series.Series'>\n",
      "age                60\n",
      "age_plus_one       61\n",
      "age_times_two     120\n",
      "age_squared      3600\n",
      "over_30          True\n",
      "Name: Bob, dtype: object\n"
     ]
    }
   ],
   "source": [
    " # import Pandas. I always alias it as pd\n",
    "import pandas as pd\n",
    "s = pd.Series([1,2,3]) # make Series from list\n",
    "# display the values in s\n",
    "# note index is to the far left\n",
    "print s\n",
    "print s+2\n",
    "print s.index\n",
    "print s+pd.Series([4,4,5])\n",
    "\n",
    "bobs_row = df_w_name_as_ind.loc[\"Bob\"]\n",
    "print type(bobs_row)\n",
    "#<class 'pandas.core.series.Series'>\n",
    "print bobs_row"
   ]
  },
  {
   "cell_type": "code",
   "execution_count": null,
   "metadata": {
    "collapsed": true
   },
   "outputs": [],
   "source": []
  }
 ],
 "metadata": {
  "kernelspec": {
   "display_name": "Python 3",
   "language": "python",
   "name": "python3"
  },
  "language_info": {
   "codemirror_mode": {
    "name": "ipython",
    "version": 3
   },
   "file_extension": ".py",
   "mimetype": "text/x-python",
   "name": "python",
   "nbconvert_exporter": "python",
   "pygments_lexer": "ipython3",
   "version": "3.6.3"
  }
 },
 "nbformat": 4,
 "nbformat_minor": 2
}
